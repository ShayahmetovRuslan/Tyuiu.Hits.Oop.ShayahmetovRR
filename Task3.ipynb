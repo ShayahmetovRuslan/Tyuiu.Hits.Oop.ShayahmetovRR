{
 "cells": [
  {
   "cell_type": "markdown",
   "metadata": {},
   "source": [
    "<h1 style=\"color:DodgerBlue\">Индивидуальный проект</h1>"
   ]
  },
  {
   "cell_type": "markdown",
   "metadata": {},
   "source": [
    "<h2 style=\"color:DodgerBlue\">Название проекта:</h2>\n",
    "\n",
    "----\n",
    "\n",
    "### Вариант задания №19\n"
   ]
  },
  {
   "cell_type": "markdown",
   "metadata": {},
   "source": [
    "<h2 style=\"color:DodgerBlue\">Описание проекта:</h2>\n",
    "\n",
    "----\n",
    "\n",
    "Создать базовый класс Subscription в C#, который будет представлять подписки на\n",
    "различные услуги. На основе этого класса разработать 2-3 производных класса,\n",
    "демонстрирующих принципы наследования и полиморфизма. В каждом из классов\n",
    "должны быть реализованы новые атрибуты и методы, а также переопределены\n",
    "некоторые методы базового класса для демонстрации полиморфизма.\n",
    "\n",
    "Требования к базовому классу Subscription:\n",
    "\n",
    "• Атрибуты: ID подписки (SubscriptionId), Название услуги (ServiceName),\n",
    "Стоимость подписки (Cost).\n",
    "    \n",
    "• Методы:\n",
    "\n",
    "o CalculateMonthlyCost(): метод для расчета ежемесячной стоимости\n",
    "подписки.\n",
    "\n",
    "o ExtendSubscription(): метод для продления подписки на\n",
    "дополнительный период.\n",
    "\n",
    "o GetSubscriptionDetails(): метод для получения деталей подписки\n",
    "\n",
    "Требования к производным классам:\n",
    "\n",
    "1. ПодпискаНаОнлайнСервис (OnlineServiceSubscription):\n",
    "Должна содержать\n",
    "дополнительные атрибуты, такие как Количество доступных пользователей\n",
    "(MaxUsers). \n",
    "Метод CalculateMonthlyCost() должен быть переопределен для\n",
    "учета количества пользователей при расчете стоимости.\n",
    "\n",
    "2. ПодпискаНаСтreamинг (StreamingSubscription): \n",
    "Должна содержать\n",
    "дополнительные атрибуты, такие как Количество одновременных потоков\n",
    "(MaxStreams).\n",
    "Метод ExtendSubscription() должен быть переопределен для\n",
    "добавления специальных предложений для продления подписки.\n",
    "\n",
    "3. ПодпискаНаВидео(VideoSubscription) (если требуется третий класс): \n",
    "Должна\n",
    "содержать дополнительные атрибуты, такие как Качество видео\n",
    "(VideoQuality). \n",
    "Метод GetSubscriptionDetails() должен быть переопределен\n",
    "для отображения качества видео вместе с другими деталями подписки."
   ]
  },
  {
   "cell_type": "markdown",
   "metadata": {},
   "source": [
    "<h2 style=\"color:DodgerBlue\">Реализация:</h2>\n",
    "\n",
    "----"
   ]
  },
  {
   "cell_type": "code",
   "execution_count": 2,
   "metadata": {
    "dotnet_interactive": {
     "language": "csharp"
    },
    "polyglot_notebook": {
     "kernelName": "csharp"
    }
   },
   "outputs": [
    {
     "name": "stdout",
     "output_type": "stream",
     "text": [
      "Цена стоимости ежемесячной подписки равна 150.\n",
      "Подписка продлена на месяц.\n",
      "Цена за месяц: 250.\n",
      " Оставшееся время: 4 месяца.\n",
      " Название подписки: Ютуб Премиум.\n",
      " Качество видео: 1080p.\n"
     ]
    }
   ],
   "source": [
    "public class Subscription\n",
    "{\n",
    "    private int SubscriptionId;\n",
    "    public int subscriptionId \n",
    "    {\n",
    "        get {return SubscriptionId;}\n",
    "        set {SubscriptionId = value;}\n",
    "    }\n",
    "\n",
    "    private string ServiceName;\n",
    "    public string serviceName \n",
    "    {\n",
    "        get {return ServiceName;}\n",
    "        set {ServiceName = value;}\n",
    "    }\n",
    "\n",
    "    private int Cost;\n",
    "    public int cost \n",
    "    {\n",
    "        get {return Cost;}\n",
    "        set {Cost = value;}\n",
    "    }\n",
    "\n",
    "    private int Time;\n",
    "    public int time\n",
    "    {\n",
    "        get {return Time;}\n",
    "        set {Time = value;}\n",
    "    }\n",
    "\n",
    "    public virtual void CalculateMonthlyCost()\n",
    "    {\n",
    "        Console.WriteLine($\"Цена стоимости ежемесячной подписки равна {Cost}.\");\n",
    "    }\n",
    "\n",
    "    public virtual void ExtendSubscription()\n",
    "    {\n",
    "        time += 1;\n",
    "        Console.WriteLine(\"Подписка продлена на месяц.\");\n",
    "    }\n",
    "\n",
    "    public virtual void GetSubscriptionDetails()\n",
    "    {\n",
    "        Console.WriteLine($\"Цена за месяц: {Cost}\\n Оставшееся время: {time} месяца\\n Название подписки: {ServiceName}\");\n",
    "    }\n",
    "} \n",
    "    public class OnlineServiceSubscription : Subscription \n",
    "    {\n",
    "        public int MaxUsers = 16;\n",
    "        public int Users = 4;\n",
    "\n",
    "        public override void CalculateMonthlyCost()\n",
    "        {\n",
    "            Console.WriteLine($\"Цена стоимости ежемесячной подписки равна {cost*Users}\");\n",
    "        }\n",
    "    }\n",
    "\n",
    "    public class StreamingSubscription : Subscription\n",
    "    {\n",
    "        public int MaxStreams = 12;\n",
    "\n",
    "        public override void ExtendSubscription()\n",
    "        {\n",
    "            Console.WriteLine(\"Подписка продлена на месяц. Продлите подписку на 3 месяца, чтобы получить скидку 25%.\");\n",
    "        }\n",
    "    }\n",
    "\n",
    "    public class VideoSubscription : Subscription\n",
    "    {\n",
    "        public string VideoQuality = \"1080p\";\n",
    "\n",
    "        public override void GetSubscriptionDetails()\n",
    "        {\n",
    "            Console.WriteLine($\"Цена за месяц: {cost}.\\n Оставшееся время: {time} месяца.\\n Название подписки: {serviceName}.\\n Качество видео: {VideoQuality}.\");\n",
    "        }\n",
    "    }\n",
    "\n",
    "    VideoSubscription vsub = new VideoSubscription();\n",
    "    vsub.cost = 250;\n",
    "    vsub.serviceName = \"Ютуб Премиум\";\n",
    "    vsub.time = 3;\n",
    "    vsub.ExtendSubscription();\n",
    "    vsub.GetSubscriptionDetails();\n",
    "\n"
   ]
  }
 ],
 "metadata": {
  "kernelspec": {
   "display_name": ".NET (C#)",
   "language": "C#",
   "name": ".net-csharp"
  },
  "polyglot_notebook": {
   "kernelInfo": {
    "defaultKernelName": "csharp",
    "items": [
     {
      "aliases": [],
      "languageName": "csharp",
      "name": "csharp"
     }
    ]
   }
  }
 },
 "nbformat": 4,
 "nbformat_minor": 2
}
